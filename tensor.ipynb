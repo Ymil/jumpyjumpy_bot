{
 "cells": [
  {
   "cell_type": "code",
   "execution_count": 1,
   "id": "excellent-modern",
   "metadata": {},
   "outputs": [],
   "source": [
    "#!pip install tf-nightly\n",
    "#! conda install -c conda-forge ffmpeg\n",
    "#! pip install opencv-python\n",
    "# pip install opencv-contrib-python\n",
    "# pip install pynput\n"
   ]
  },
  {
   "cell_type": "code",
   "execution_count": 11,
   "id": "becoming-consolidation",
   "metadata": {},
   "outputs": [],
   "source": [
    "# Autor: Lautaro Linquiman - lylinquiman@gmail.com\n",
    "\n",
    "import cv2 as cv\n",
    "import numpy as np\n",
    "import statistics as stats\n",
    "\n",
    "from pynput.keyboard import Key, Controller\n",
    "from queue import Queue\n",
    "%matplotlib inline\n",
    "from matplotlib import pyplot as plt\n",
    "\n",
    "import time\n",
    "import numpy as np\n",
    "import math\n",
    "import threading"
   ]
  },
  {
   "cell_type": "code",
   "execution_count": 2,
   "id": "undefined-ethics",
   "metadata": {},
   "outputs": [
    {
     "name": "stdout",
     "output_type": "stream",
     "text": [
      "2.3.0\n"
     ]
    }
   ],
   "source": [
    "# TensorFlow y tf.keras\n",
    "import tensorflow as tf\n",
    "from tensorflow import keras\n",
    "\n",
    "# Librerias de ayuda\n",
    "import numpy as np\n",
    "\n",
    "print(tf.__version__)"
   ]
  },
  {
   "cell_type": "code",
   "execution_count": 3,
   "id": "lonely-objective",
   "metadata": {},
   "outputs": [],
   "source": [
    "from main import ceil_deteccion, obstacle_deteccion, ball_deteccion, move_left, move_right"
   ]
  },
  {
   "cell_type": "code",
   "execution_count": 4,
   "id": "virtual-dining",
   "metadata": {},
   "outputs": [],
   "source": [
    "model = tf.keras.models.load_model('direccion_model')\n",
    "speed_model = tf.keras.models.load_model('speed_model')"
   ]
  },
  {
   "cell_type": "code",
   "execution_count": 27,
   "id": "radical-patrol",
   "metadata": {},
   "outputs": [],
   "source": [
    "import scipy.stats\n",
    "#fig = plt.figure()\n",
    "#ax = fig.gca()\n",
    "#fig.show()\n",
    "resize = (64, 48)\n",
    "img_samples = []\n",
    "\n",
    "def processing(img):\n",
    "    global img_samples\n",
    "    #print(img)\n",
    "   \n",
    "    img = cv.cvtColor(img, cv.COLOR_RGB2HSV) \n",
    "    ceil = ceil_deteccion(img)\n",
    "    ceil[ceil > 0] = 255\n",
    "    obs = obstacle_deteccion(img)\n",
    "    ball = ball_deteccion(img, None)[2]\n",
    "    ball[ball > 0] = 50\n",
    "\n",
    "    all_ = ceil + obs + ball\n",
    "    #print(all_.shape)\n",
    "    img = cv.resize(all_, resize)\n",
    "    #img = cv.cvtColor(img, cv.COLOR_BGR2RGB)\n",
    "    #print(img.shape)\n",
    "    #img_end = np.array(img_end)\n",
    "    \n",
    "    #img = cv.cvtColor(img, cv.COLOR_RGB2GRAY) \n",
    "    #print(img.shape)\n",
    "    img = np.array(img)\n",
    "    img = img.astype('float32')\n",
    "    img /= 255 \n",
    "    #print(img.shape)\n",
    "    #img = tf.reshape(img, [64, 48])\n",
    "    #print(img)\n",
    "    #cv.imshow(\"test\", img)\n",
    "    #cv.waitKey(0)\n",
    "    #cv.destroyAllWindows()\n",
    "    \n",
    "    #ax.set_title(\"00\")\n",
    "    #fig.canvas.draw()\n",
    "    #plt.imshow(img)\n",
    "    #plt.show()\n",
    "    img_samples.append(img)\n",
    "    if len(img_samples) > 3: \n",
    "        predictions = model.predict(np.array(img_samples))\n",
    "        speed_predictions = speed_model.predict(np.array(img_samples)).flatten()\n",
    "        #print(predictions)\n",
    "        #predictions = scipy.stats.mode(predictions)\n",
    "        predictions = np.average(predictions, axis=1)\n",
    "        #print(speed_predictions)\n",
    "        speed_predictions = (np.average(speed_predictions)/1000)\n",
    "        #print(speed_predictions)\n",
    "        #test_loss, test_acc = model.evaluate(img,  np.array(np.argmax(predictions)), verbose=2)\n",
    "\n",
    "        #print('\\nTest accuracy:', test_acc)\n",
    "        #img_samples = []\n",
    "        img_samples = []\n",
    "        return (np.argmax(predictions), speed_predictions)\n",
    "    return (3, 3)"
   ]
  },
  {
   "cell_type": "code",
   "execution_count": 28,
   "id": "hollywood-michigan",
   "metadata": {},
   "outputs": [],
   "source": [
    "from pynput.keyboard import Key, Controller\n",
    "keyboard = Controller()\n",
    "import time\n",
    "#last = 0\n",
    "def move(q):\n",
    "    last = 0\n",
    "    while True:\n",
    "        direccion,d = q.get()\n",
    "        \n",
    "        #if last == direccion:\n",
    "        #    continue\n",
    "        if direccion == 0:\n",
    "            keyboard.release(Key.right)        \n",
    "            keyboard.release(Key.left)\n",
    "            time.sleep(d/5)\n",
    "        elif direccion == 1:  \n",
    "            keyboard.release(Key.right)\n",
    "            keyboard.press(Key.left)\n",
    "            #time.sleep(d)\n",
    "            \n",
    "            #keyboard.release(Key.left)\n",
    "        elif direccion == 2: \n",
    "            keyboard.release(Key.left)\n",
    "            keyboard.press(Key.right)\n",
    "            #time.sleep(d)\n",
    "            #keyboard.release(Key.right)\n",
    "        last = direccion\n",
    "        #time.sleep(0.05)\n",
    "    "
   ]
  },
  {
   "cell_type": "code",
   "execution_count": 29,
   "id": "organized-stylus",
   "metadata": {},
   "outputs": [],
   "source": [
    "import IPython"
   ]
  },
  {
   "cell_type": "code",
   "execution_count": 30,
   "id": "registered-paris",
   "metadata": {},
   "outputs": [
    {
     "name": "stdout",
     "output_type": "stream",
     "text": [
      "3 - 3\n"
     ]
    },
    {
     "ename": "KeyboardInterrupt",
     "evalue": "",
     "output_type": "error",
     "traceback": [
      "\u001b[1;31m---------------------------------------------------------------------------\u001b[0m",
      "\u001b[1;31mKeyboardInterrupt\u001b[0m                         Traceback (most recent call last)",
      "\u001b[1;32m<ipython-input-30-5e7c0f922173>\u001b[0m in \u001b[0;36m<module>\u001b[1;34m\u001b[0m\n\u001b[0;32m     15\u001b[0m \u001b[1;32mwhile\u001b[0m \u001b[1;32mTrue\u001b[0m\u001b[1;33m:\u001b[0m\u001b[1;33m\u001b[0m\u001b[1;33m\u001b[0m\u001b[0m\n\u001b[0;32m     16\u001b[0m     \u001b[1;31m# Capture frame-by-frame\u001b[0m\u001b[1;33m\u001b[0m\u001b[1;33m\u001b[0m\u001b[1;33m\u001b[0m\u001b[0m\n\u001b[1;32m---> 17\u001b[1;33m     \u001b[0mret\u001b[0m\u001b[1;33m,\u001b[0m \u001b[0mframe\u001b[0m \u001b[1;33m=\u001b[0m \u001b[0mcap\u001b[0m\u001b[1;33m.\u001b[0m\u001b[0mread\u001b[0m\u001b[1;33m(\u001b[0m\u001b[1;33m)\u001b[0m\u001b[1;33m\u001b[0m\u001b[1;33m\u001b[0m\u001b[0m\n\u001b[0m\u001b[0;32m     18\u001b[0m     \u001b[1;32mif\u001b[0m \u001b[0mret\u001b[0m\u001b[1;33m:\u001b[0m  \u001b[1;31m# if ret is True:\u001b[0m\u001b[1;33m\u001b[0m\u001b[1;33m\u001b[0m\u001b[0m\n\u001b[0;32m     19\u001b[0m         \u001b[0mIPython\u001b[0m\u001b[1;33m.\u001b[0m\u001b[0mdisplay\u001b[0m\u001b[1;33m.\u001b[0m\u001b[0mclear_output\u001b[0m\u001b[1;33m(\u001b[0m\u001b[0mwait\u001b[0m\u001b[1;33m=\u001b[0m\u001b[1;32mTrue\u001b[0m\u001b[1;33m)\u001b[0m\u001b[1;33m\u001b[0m\u001b[1;33m\u001b[0m\u001b[0m\n",
      "\u001b[1;31mKeyboardInterrupt\u001b[0m: "
     ]
    }
   ],
   "source": [
    "cap = cv.VideoCapture(0)\n",
    "\n",
    "#640.0 x 480.0\n",
    "cap.set(cv.CAP_PROP_FRAME_WIDTH, 640)\n",
    "cap.set(cv.CAP_PROP_FRAME_HEIGHT, 480)\n",
    "import threading\n",
    "import queue\n",
    "q = queue.Queue()\n",
    "q.put([3,0])\n",
    "t = threading.Thread(target=(move), args=(q,))\n",
    "t.start()\n",
    "if not cap.isOpened():\n",
    "    print(\"Cannot open camera\")\n",
    "    exit()\n",
    "while True:\n",
    "    # Capture frame-by-frame\n",
    "    ret, frame = cap.read()\n",
    "    if ret:  # if ret is True:\n",
    "        IPython.display.clear_output(wait=True)\n",
    "        #frame = cv.cvtColor(frame, cv.COLOR_BGR2GRAY)\n",
    "        #print(ret)\n",
    "        #frame = cv.rotate(frame, cv.ROTATE_180)\n",
    "        frame = cv.flip(frame,-1)\n",
    "        frame = cv.flip(frame,1)\n",
    "        #plt.figure()\n",
    "         # Turn off the axis\n",
    "        #plt.axis('off')\n",
    "        # Title of the window\n",
    "        #plt.title(\"Input Stream\")\n",
    "        # Display the frame\n",
    "        #plt.imshow(frame)\n",
    "        #plt.show()\n",
    "        #plt.figure()\n",
    "        #plt.imshow(frame)\n",
    "        #plt.show()\n",
    "        #cv.imshow(\"\",frame)\n",
    "        # Display the frame until new frame is available\n",
    "        \n",
    "        #plt.show()\n",
    "        r,s = processing(frame)\n",
    "        if r == False:\n",
    "            #print(\"False\")\n",
    "            pass\n",
    "        #if r == 0:\n",
    "        #    move_left(0.1)\n",
    "        #elif r == 1:\n",
    "        #    move_right(0.1)\n",
    "        print(\"{} - {}\".format(r, s))\n",
    "        if r < 3:\n",
    "            \n",
    "            q.queue.clear()\n",
    "            q.put([r, s])\n",
    "      # ... other code ...\n",
    "        \n",
    "    else:\n",
    "          print(\"empty frame\")      \n"
   ]
  },
  {
   "cell_type": "code",
   "execution_count": null,
   "id": "forbidden-behalf",
   "metadata": {},
   "outputs": [],
   "source": []
  }
 ],
 "metadata": {
  "kernelspec": {
   "display_name": "Python 3",
   "language": "python",
   "name": "python3"
  },
  "language_info": {
   "codemirror_mode": {
    "name": "ipython",
    "version": 3
   },
   "file_extension": ".py",
   "mimetype": "text/x-python",
   "name": "python",
   "nbconvert_exporter": "python",
   "pygments_lexer": "ipython3",
   "version": "3.8.5"
  }
 },
 "nbformat": 4,
 "nbformat_minor": 5
}
